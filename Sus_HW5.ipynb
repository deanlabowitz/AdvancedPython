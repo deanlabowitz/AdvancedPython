{
 "cells": [
  {
   "cell_type": "markdown",
   "metadata": {
    "id": "TG0YzMY9Dt8w"
   },
   "source": [
    "You will scrape this <a href=\"https://sandeepmj.github.io/scrape-example-page/homework-site.html\">mockup site</a> that lists a few data points for addiction centers."
   ]
  },
  {
   "cell_type": "code",
   "execution_count": 1,
   "metadata": {},
   "outputs": [
    {
     "name": "stdout",
     "output_type": "stream",
     "text": [
      "Requirement already satisfied: icecream in /Users/slabowitz/opt/anaconda3/lib/python3.8/site-packages (2.1.1)\n",
      "Requirement already satisfied: pygments>=2.2.0 in /Users/slabowitz/opt/anaconda3/lib/python3.8/site-packages (from icecream) (2.8.1)\n",
      "Requirement already satisfied: colorama>=0.3.9 in /Users/slabowitz/opt/anaconda3/lib/python3.8/site-packages (from icecream) (0.4.4)\n",
      "Requirement already satisfied: asttokens>=2.0.1 in /Users/slabowitz/opt/anaconda3/lib/python3.8/site-packages (from icecream) (2.0.5)\n",
      "Requirement already satisfied: executing>=0.3.1 in /Users/slabowitz/opt/anaconda3/lib/python3.8/site-packages (from icecream) (0.8.1)\n",
      "Requirement already satisfied: six in /Users/slabowitz/opt/anaconda3/lib/python3.8/site-packages (from asttokens>=2.0.1->icecream) (1.15.0)\n",
      "Note: you may need to restart the kernel to use updated packages.\n"
     ]
    }
   ],
   "source": [
    "pip install icecream"
   ]
  },
  {
   "cell_type": "code",
   "execution_count": 2,
   "metadata": {
    "id": "cXQW0IJoDt8x"
   },
   "outputs": [],
   "source": [
    "## import library(ies)\n",
    "from bs4 import BeautifulSoup ## package to parse HTML and XML\n",
    "import icecream as ic ## for debugging\n",
    "import requests ## The most widely downloaded package - captures content from web"
   ]
  },
  {
   "cell_type": "code",
   "execution_count": 3,
   "metadata": {},
   "outputs": [
    {
     "data": {
      "text/plain": [
       "200"
      ]
     },
     "execution_count": 3,
     "metadata": {},
     "output_type": "execute_result"
    }
   ],
   "source": [
    "## capture the contents of the site in a response object\n",
    "url = \"https://sandeepmj.github.io/scrape-example-page/homework-site.html\"\n",
    "response = requests.get(url)\n",
    "response.status_code"
   ]
  },
  {
   "cell_type": "code",
   "execution_count": 4,
   "metadata": {
    "id": "cgMlKxSADt8x"
   },
   "outputs": [
    {
     "name": "stdout",
     "output_type": "stream",
     "text": [
      "<html>\n",
      " <body>\n",
      "  <div class=\"register-list\">\n",
      "   <div class=\"container\">\n",
      "    <h1>\n",
      "     Addiction Treatment Center Inspections\n",
      "    </h1>\n",
      "    <div class=\"wrap\">\n",
      "     <h4>\n",
      "      <a href=\"/public-register/recovery-foundation/\">\n",
      "       Recovery Foundation\n",
      "      </a>\n",
      "     </h4>\n",
      "     <div class=\"row\">\n",
      "      <p class=\"status\">\n",
      "       Inspection: Passed\n",
      "      </p>\n",
      "      <p class=\"registration\">\n",
      "       Registration# 4235\n",
      "      </p>\n",
      "      <p class=\"regulation\">\n",
      "       Non Regulated\n",
      "      </p>\n",
      "      <p class=\"cost\">\n",
      "       $10,000\n",
      "      </p>\n",
      "      <p class=\"loans\">\n",
      "       Loans available\n",
      "      </p>\n",
      "     </div>\n",
      "    </div>\n",
      "    <div class=\"wrap\">\n",
      "     <h4>\n",
      "      <a href=\"/public-register/new-horizons/\">\n",
      "       New Horizons\n",
      "      </a>\n",
      "     </h4>\n",
      "     <div class=\"row\">\n",
      "      <p class=\"status\">\n",
      "       Inspection: Failed\n",
      "      </p>\n",
      "      <p class=\"registration\">\n",
      "       Registration# 4234\n",
      "      </p>\n",
      "      <p class=\"regulation\">\n",
      "       Non Regulated\n",
      "      </p>\n",
      "      <p class=\"cost\">\n",
      "       $15,000\n",
      "      </p>\n",
      "      <p class=\"loans\">\n",
      "       Loans available\n",
      "      </p>\n",
      "     </div>\n",
      "    </div>\n",
      "    <div class=\"wrap\">\n",
      "     <h4>\n",
      "      <a href=\"/public-register/renewal-light/\">\n",
      "       Renewable Light\n",
      "      </a>\n",
      "     </h4>\n",
      "     <div class=\"row\">\n",
      "      <p class=\"status\">\n",
      "       Inspection: Passed\n",
      "      </p>\n",
      "      <p class=\"registration\">\n",
      "       Registration# 4231\n",
      "      </p>\n",
      "      <p class=\"regulation\">\n",
      "       Regulated\n",
      "      </p>\n",
      "      <p class=\"cost\">\n",
      "       $11,000\n",
      "      </p>\n",
      "      <p class=\"loans\">\n",
      "       Loans available\n",
      "      </p>\n",
      "     </div>\n",
      "    </div>\n",
      "   </div>\n",
      "  </div>\n",
      " </body>\n",
      "</html>\n",
      "\n"
     ]
    }
   ],
   "source": [
    "## generate and print soup\n",
    "soup = BeautifulSoup(response.text,'html.parser')\n",
    "print(soup.prettify())"
   ]
  },
  {
   "cell_type": "code",
   "execution_count": 5,
   "metadata": {
    "id": "RLW9lFCyDt8x"
   },
   "outputs": [
    {
     "data": {
      "text/plain": [
       "bs4.BeautifulSoup"
      ]
     },
     "execution_count": 5,
     "metadata": {},
     "output_type": "execute_result"
    }
   ],
   "source": [
    "## check data type of soup\n",
    "type(soup)"
   ]
  },
  {
   "cell_type": "code",
   "execution_count": 6,
   "metadata": {
    "id": "H8nE6kaADt8x"
   },
   "outputs": [
    {
     "data": {
      "text/plain": [
       "<h4><a href=\"/public-register/recovery-foundation/\">Recovery Foundation</a></h4>"
      ]
     },
     "execution_count": 6,
     "metadata": {},
     "output_type": "execute_result"
    }
   ],
   "source": [
    "### Return the name of the first center (including the html)\n",
    "soup.h4"
   ]
  },
  {
   "cell_type": "code",
   "execution_count": 7,
   "metadata": {
    "id": "yuyqylpRDt8x"
   },
   "outputs": [
    {
     "data": {
      "text/plain": [
       "'Recovery Foundation'"
      ]
     },
     "execution_count": 7,
     "metadata": {},
     "output_type": "execute_result"
    }
   ],
   "source": [
    "### Return only the name of the first center (remove all the html)\n",
    "soup.h4.get_text()"
   ]
  },
  {
   "cell_type": "code",
   "execution_count": 9,
   "metadata": {
    "id": "KeXhNlUxDt8x"
   },
   "outputs": [
    {
     "data": {
      "text/plain": [
       "'/public-register/recovery-foundation/'"
      ]
     },
     "execution_count": 9,
     "metadata": {},
     "output_type": "execute_result"
    }
   ],
   "source": [
    "### Return only the URL of the first center\n",
    "soup.a.get(\"href\")"
   ]
  },
  {
   "cell_type": "code",
   "execution_count": 10,
   "metadata": {
    "id": "A5Z8R5DLDt8x"
   },
   "outputs": [
    {
     "data": {
      "text/plain": [
       "<div class=\"wrap\">\n",
       "<h4><a href=\"/public-register/recovery-foundation/\">Recovery Foundation</a></h4>\n",
       "<div class=\"row\">\n",
       "<p class=\"status\">Inspection: Passed</p>\n",
       "<p class=\"registration\">Registration# 4235</p>\n",
       "<p class=\"regulation\">Non Regulated</p>\n",
       "<p class=\"cost\">$10,000</p>\n",
       "<p class=\"loans\">Loans available</p>\n",
       "</div>\n",
       "</div>"
      ]
     },
     "execution_count": 10,
     "metadata": {},
     "output_type": "execute_result"
    }
   ],
   "source": [
    "### Find first instance of ALL a center's data\n",
    "### Think of this as the first group of data associated with a company\n",
    "soup.find(class_=\"wrap\")"
   ]
  },
  {
   "cell_type": "code",
   "execution_count": 11,
   "metadata": {
    "id": "mf9-Io-ODt8x"
   },
   "outputs": [
    {
     "data": {
      "text/plain": [
       "[<div class=\"row\">\n",
       " <p class=\"status\">Inspection: Passed</p>\n",
       " <p class=\"registration\">Registration# 4235</p>\n",
       " <p class=\"regulation\">Non Regulated</p>\n",
       " <p class=\"cost\">$10,000</p>\n",
       " <p class=\"loans\">Loans available</p>\n",
       " </div>,\n",
       " <div class=\"row\">\n",
       " <p class=\"status\">Inspection: Failed</p>\n",
       " <p class=\"registration\">Registration# 4234</p>\n",
       " <p class=\"regulation\">Non Regulated</p>\n",
       " <p class=\"cost\">$15,000</p>\n",
       " <p class=\"loans\">Loans available</p>\n",
       " </div>,\n",
       " <div class=\"row\">\n",
       " <p class=\"status\">Inspection: Passed</p>\n",
       " <p class=\"registration\">Registration# 4231</p>\n",
       " <p class=\"regulation\">Regulated</p>\n",
       " <p class=\"cost\">$11,000</p>\n",
       " <p class=\"loans\">Loans available</p>\n",
       " </div>]"
      ]
     },
     "execution_count": 11,
     "metadata": {},
     "output_type": "execute_result"
    }
   ],
   "source": [
    "#### Find all the instances of every centers' data points.\n",
    "soup.find_all(class_=\"row\")"
   ]
  },
  {
   "cell_type": "code",
   "execution_count": 12,
   "metadata": {
    "id": "PFHFs6v1Dt8x"
   },
   "outputs": [
    {
     "data": {
      "text/plain": [
       "[<p class=\"registration\">Registration# 4235</p>,\n",
       " <p class=\"registration\">Registration# 4234</p>,\n",
       " <p class=\"registration\">Registration# 4231</p>]"
      ]
     },
     "execution_count": 12,
     "metadata": {},
     "output_type": "execute_result"
    }
   ],
   "source": [
    "### Find all the registration data\n",
    "soup.find_all(\"p\",class_=\"registration\")"
   ]
  },
  {
   "cell_type": "markdown",
   "metadata": {
    "id": "DtuuSUA5Dt8x"
   },
   "source": [
    "### Place all the registration data into a list with only the numbers in the format.\n",
    "It should look like this:\n",
    "\n",
    "```['4235', '4234', '4231']```"
   ]
  },
  {
   "cell_type": "code",
   "execution_count": 13,
   "metadata": {},
   "outputs": [
    {
     "data": {
      "text/plain": [
       "['4235', '4234', '4231']"
      ]
     },
     "execution_count": 13,
     "metadata": {},
     "output_type": "execute_result"
    }
   ],
   "source": [
    "## do it here (create more cells if you need them)\n",
    "registration_data = []\n",
    "for item in soup.find_all(class_=\"registration\"):  \n",
    "    registration_data.append((item.get_text().replace(\"Registration# \",\"\")))\n",
    "registration_data"
   ]
  },
  {
   "cell_type": "markdown",
   "metadata": {
    "id": "D2nbZQEWDt8x"
   },
   "source": [
    "### Place all the company names into a list.\n",
    "It should look like this:\n",
    "\n",
    "```['Recovery Foundation','New Horizons','Renewable Light']```"
   ]
  },
  {
   "cell_type": "code",
   "execution_count": 14,
   "metadata": {
    "id": "9l8Hru7SDt8x"
   },
   "outputs": [
    {
     "data": {
      "text/plain": [
       "['Recovery Foundation', 'New Horizons', 'Renewable Light']"
      ]
     },
     "execution_count": 14,
     "metadata": {},
     "output_type": "execute_result"
    }
   ],
   "source": [
    "## do it here (create more cells if you need them)\n",
    "company_names = []\n",
    "for name in soup.find_all('a'):\n",
    "    company_names.append(name.get_text())\n",
    "company_names    "
   ]
  },
  {
   "cell_type": "code",
   "execution_count": 15,
   "metadata": {
    "id": "DVdyGc5xDt8x"
   },
   "outputs": [
    {
     "data": {
      "text/plain": [
       "['Recovery Foundation', 'New Horizons', 'Renewable Light']"
      ]
     },
     "execution_count": 15,
     "metadata": {},
     "output_type": "execute_result"
    }
   ],
   "source": [
    "### lc\n",
    "company_names_lc = [name.get_text() for name in soup.find_all('a')]\n",
    "company_names_lc"
   ]
  },
  {
   "cell_type": "markdown",
   "metadata": {
    "id": "-34M-wKGDt8x"
   },
   "source": [
    "### Place all the URLS into a list.\n"
   ]
  },
  {
   "cell_type": "code",
   "execution_count": 19,
   "metadata": {
    "id": "ENfvN2DFDt8x"
   },
   "outputs": [
    {
     "data": {
      "text/plain": [
       "[<a href=\"/public-register/recovery-foundation/\">Recovery Foundation</a>,\n",
       " <a href=\"/public-register/new-horizons/\">New Horizons</a>,\n",
       " <a href=\"/public-register/renewal-light/\">Renewable Light</a>]"
      ]
     },
     "execution_count": 19,
     "metadata": {},
     "output_type": "execute_result"
    }
   ],
   "source": [
    "## do it here (create more cells if you need them)\n",
    "centers = soup.find_all('a')\n",
    "centers"
   ]
  },
  {
   "cell_type": "code",
   "execution_count": 20,
   "metadata": {},
   "outputs": [
    {
     "data": {
      "text/plain": [
       "['/public-register/recovery-foundation/',\n",
       " '/public-register/new-horizons/',\n",
       " '/public-register/renewal-light/']"
      ]
     },
     "execution_count": 20,
     "metadata": {},
     "output_type": "execute_result"
    }
   ],
   "source": [
    "all_urls_lc = [url.get(\"href\") for url in centers]\n",
    "all_urls_lc"
   ]
  },
  {
   "cell_type": "markdown",
   "metadata": {
    "id": "UDg9QjNPDt8x"
   },
   "source": [
    "### Place all the status into a list.\n",
    "It should look like this:\n",
    "\n",
    "```['Active', 'Inactive', 'Active']```"
   ]
  },
  {
   "cell_type": "code",
   "execution_count": 40,
   "metadata": {
    "id": "n8HN_649Dt8x"
   },
   "outputs": [
    {
     "data": {
      "text/plain": [
       "['Active', 'Inactive', 'Active']"
      ]
     },
     "execution_count": 40,
     "metadata": {},
     "output_type": "execute_result"
    }
   ],
   "source": [
    "## do it here (create more cells if you need them)\n",
    "status = [item.get_text() for item in soup.find_all(\"p\", class_=\"status\")]\n",
    "status\n",
    "\n",
    "new_status = []\n",
    "\n",
    "for word in status:\n",
    "    if \"Passed\" in word:\n",
    "        new_status.append('Active')\n",
    "    else:\n",
    "        new_status.append('Inactive')\n",
    "new_status"
   ]
  },
  {
   "cell_type": "markdown",
   "metadata": {
    "id": "mjfohXEFDt8x"
   },
   "source": [
    "### Turn these lists into dataframes and export to a csv"
   ]
  },
  {
   "cell_type": "code",
   "execution_count": 41,
   "metadata": {
    "id": "zc_fxl_sDt8x"
   },
   "outputs": [],
   "source": [
    "## import pandas\n",
    "import pandas as pd"
   ]
  },
  {
   "cell_type": "code",
   "execution_count": 48,
   "metadata": {
    "id": "1QhFU-AyDt8x"
   },
   "outputs": [
    {
     "data": {
      "text/plain": [
       "[{'company_name': 'Recovery Foundation',\n",
       "  'status': 'Active',\n",
       "  'link': '/public-register/recovery-foundation/'},\n",
       " {'company_name': 'New Horizons',\n",
       "  'status': 'Inactive',\n",
       "  'link': '/public-register/new-horizons/'},\n",
       " {'company_name': 'Renewable Light',\n",
       "  'status': 'Active',\n",
       "  'link': '/public-register/renewal-light/'}]"
      ]
     },
     "execution_count": 48,
     "metadata": {},
     "output_type": "execute_result"
    }
   ],
   "source": [
    "### use pandas DataFrame method to zip files into a dataframe\n",
    "centers_dict_list = []\n",
    "\n",
    "for (name,in_active,url) in zip(company_names_lc, new_status, all_urls_lc):\n",
    "    info = {\"company_name\": name, \"status\": in_active, \"link\": url}\n",
    "    centers_dict_list.append(info)\n",
    "\n",
    "centers_dict_list"
   ]
  },
  {
   "cell_type": "code",
   "execution_count": 49,
   "metadata": {
    "id": "_kGECyfbDt8x"
   },
   "outputs": [
    {
     "data": {
      "text/html": [
       "<div>\n",
       "<style scoped>\n",
       "    .dataframe tbody tr th:only-of-type {\n",
       "        vertical-align: middle;\n",
       "    }\n",
       "\n",
       "    .dataframe tbody tr th {\n",
       "        vertical-align: top;\n",
       "    }\n",
       "\n",
       "    .dataframe thead th {\n",
       "        text-align: right;\n",
       "    }\n",
       "</style>\n",
       "<table border=\"1\" class=\"dataframe\">\n",
       "  <thead>\n",
       "    <tr style=\"text-align: right;\">\n",
       "      <th></th>\n",
       "      <th>company_name</th>\n",
       "      <th>status</th>\n",
       "      <th>link</th>\n",
       "    </tr>\n",
       "  </thead>\n",
       "  <tbody>\n",
       "    <tr>\n",
       "      <th>0</th>\n",
       "      <td>Recovery Foundation</td>\n",
       "      <td>Active</td>\n",
       "      <td>/public-register/recovery-foundation/</td>\n",
       "    </tr>\n",
       "    <tr>\n",
       "      <th>1</th>\n",
       "      <td>New Horizons</td>\n",
       "      <td>Inactive</td>\n",
       "      <td>/public-register/new-horizons/</td>\n",
       "    </tr>\n",
       "    <tr>\n",
       "      <th>2</th>\n",
       "      <td>Renewable Light</td>\n",
       "      <td>Active</td>\n",
       "      <td>/public-register/renewal-light/</td>\n",
       "    </tr>\n",
       "  </tbody>\n",
       "</table>\n",
       "</div>"
      ],
      "text/plain": [
       "          company_name    status                                   link\n",
       "0  Recovery Foundation    Active  /public-register/recovery-foundation/\n",
       "1         New Horizons  Inactive         /public-register/new-horizons/\n",
       "2      Renewable Light    Active        /public-register/renewal-light/"
      ]
     },
     "execution_count": 49,
     "metadata": {},
     "output_type": "execute_result"
    }
   ],
   "source": [
    "## export to csv\n",
    "filename = \"centersdict.csv\"\n",
    "df = pd.DataFrame(centers_dict_list)\n",
    "df"
   ]
  },
  {
   "cell_type": "code",
   "execution_count": 50,
   "metadata": {
    "id": "R64FKfZADt8x"
   },
   "outputs": [],
   "source": [
    "df.to_csv(filename, encoding = \"UTF-8\", index=False)\n"
   ]
  }
 ],
 "metadata": {
  "colab": {
   "collapsed_sections": [],
   "name": "homework-for-week-5_BLANKS.ipynb",
   "provenance": []
  },
  "kernelspec": {
   "display_name": "Python 3",
   "language": "python",
   "name": "python3"
  },
  "language_info": {
   "codemirror_mode": {
    "name": "ipython",
    "version": 3
   },
   "file_extension": ".py",
   "mimetype": "text/x-python",
   "name": "python",
   "nbconvert_exporter": "python",
   "pygments_lexer": "ipython3",
   "version": "3.8.8"
  }
 },
 "nbformat": 4,
 "nbformat_minor": 4
}
