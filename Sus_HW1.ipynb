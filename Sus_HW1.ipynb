{
 "cells": [
  {
   "cell_type": "code",
   "execution_count": 2,
   "metadata": {},
   "outputs": [
    {
     "name": "stdout",
     "output_type": "stream",
     "text": [
      "Sales totalled $43,300,300 in 2019\n"
     ]
    }
   ],
   "source": [
    "sales = 43_300_300\n",
    "print(f\"Sales totalled ${sales:,.0f} in 2019\")"
   ]
  },
  {
   "cell_type": "code",
   "execution_count": 3,
   "metadata": {},
   "outputs": [
    {
     "name": "stdout",
     "output_type": "stream",
     "text": [
      "Sales totalled $1,410,000,000,000 in 2019\n"
     ]
    }
   ],
   "source": [
    "## create a variable called apple_cap equal to $1.41 trillion in scientific notation\n",
    "## Print it like you did above but to no decimal places.\n",
    "apple_cap = 1.41E12\n",
    "print(f\"Sales totalled ${apple_cap:,.0f} in 2019\")"
   ]
  },
  {
   "cell_type": "code",
   "execution_count": 5,
   "metadata": {},
   "outputs": [
    {
     "name": "stdout",
     "output_type": "stream",
     "text": [
      "['Bankruptcy', 'Mergers', 'Acquisitions', 'Short selling', 'Liquidations', 'Equity']\n"
     ]
    }
   ],
   "source": [
    "## Combine the two lists into a single list called combined_list\n",
    "terms_1 = [\"Bankruptcy\", \"Mergers\", \"Acquisitions\"]\n",
    "terms_2 = [\"Short selling\", \"Liquidations\", \"Equity\"]\n",
    "combined_list = terms_1 + terms_2\n",
    "print(combined_list)\n",
    "                         "
   ]
  },
  {
   "cell_type": "code",
   "execution_count": 65,
   "metadata": {},
   "outputs": [
    {
     "data": {
      "text/plain": [
       "[{'year': 2017,\n",
       "  'donor': 'David H Koch Charitable Foundation',\n",
       "  'grantee': 'City Center for Music and Drama',\n",
       "  'amount': 15000000},\n",
       " {'year': 2013,\n",
       "  'donor': 'Bradley Impact Func Inc',\n",
       "  'grantee': 'Young Americas Foundation',\n",
       "  'amount': 11000},\n",
       " {'year': 2016,\n",
       "  'donor': 'Mercer Family Foundation',\n",
       "  'grantee': 'The Becket Fund',\n",
       "  'amount': 250000},\n",
       " {'year': 2012,\n",
       "  'donor': 'Charles Koch Foundation',\n",
       "  'grantee': 'The Phillips Foundation',\n",
       "  'amount': 25000},\n",
       " {'year': 2017,\n",
       "  'donor': 'Barbara And Barre Seid Foundation',\n",
       "  'grantee': 'Boy Scouts of America',\n",
       "  'amount': 2634600}]"
      ]
     },
     "execution_count": 65,
     "metadata": {},
     "output_type": "execute_result"
    }
   ],
   "source": [
    "donor_dict_list = [ { \"year\": 2017, \"donor\": \"David H Koch Charitable Foundation\", \"grantee\": \"City Center for Music and Drama\", \"amount\": 15_000_000 },  \n",
    "                  {\"year\": 2013, \"donor\": \"Bradley Impact Func Inc\", \"grantee\": \"Young Americas Foundation\", \"amount\": 11_000 },\n",
    "                  {\"year\": 2016, \"donor\": \"Mercer Family Foundation\", \"grantee\": \"The Becket Fund\", \"amount\": 250_000 },\n",
    "                  {\"year\": 2012, \"donor\": \"Charles Koch Foundation\", \"grantee\": \"The Phillips Foundation\", \"amount\": 25_000 },\n",
    "                  {\"year\": 2017, \"donor\": \"Barbara And Barre Seid Foundation\", \"grantee\": \"Boy Scouts of America\", \"amount\": 2_634_600 },\n",
    "                  ]\n",
    "donor_dict_list          "
   ]
  },
  {
   "cell_type": "code",
   "execution_count": 66,
   "metadata": {},
   "outputs": [
    {
     "data": {
      "text/plain": [
       "5"
      ]
     },
     "execution_count": 66,
     "metadata": {},
     "output_type": "execute_result"
    }
   ],
   "source": [
    "len(donor_dict_list)"
   ]
  },
  {
   "cell_type": "code",
   "execution_count": 67,
   "metadata": {},
   "outputs": [
    {
     "data": {
      "text/plain": [
       "4"
      ]
     },
     "execution_count": 67,
     "metadata": {},
     "output_type": "execute_result"
    }
   ],
   "source": [
    "len(donor_dict_list[-1])"
   ]
  },
  {
   "cell_type": "code",
   "execution_count": 71,
   "metadata": {},
   "outputs": [
    {
     "data": {
      "text/plain": [
       "[{'year': 2017,\n",
       "  'donor': 'David H Koch Charitable Foundation',\n",
       "  'grantee': 'City Center for Music and Drama',\n",
       "  'amount': 15000000,\n",
       "  'category': 'youth'},\n",
       " {'year': 2013,\n",
       "  'donor': 'Bradley Impact Func Inc',\n",
       "  'grantee': 'Young Americas Foundation',\n",
       "  'amount': 11000},\n",
       " {'year': 2016,\n",
       "  'donor': 'Mercer Family Foundation',\n",
       "  'grantee': 'The Becket Fund',\n",
       "  'amount': 250000},\n",
       " {'year': 2012,\n",
       "  'donor': 'Charles Koch Foundation',\n",
       "  'grantee': 'The Phillips Foundation',\n",
       "  'amount': 25000},\n",
       " {'year': 2017,\n",
       "  'donor': 'Barbara And Barre Seid Foundation',\n",
       "  'grantee': 'Boy Scouts of America',\n",
       "  'amount': 2634600}]"
      ]
     },
     "execution_count": 71,
     "metadata": {},
     "output_type": "execute_result"
    }
   ],
   "source": [
    "new_keyvalue = [(\"category\", \"youth\")] \n",
    "donor_dict_list[0].update(new_keyvalue)\n",
    "donor_dict_list"
   ]
  },
  {
   "cell_type": "code",
   "execution_count": 72,
   "metadata": {},
   "outputs": [
    {
     "data": {
      "text/plain": [
       "{'year': 2017,\n",
       " 'donor': 'Barbara And Barre Seid Foundation',\n",
       " 'grantee': 'Boy Scouts of America',\n",
       " 'amount': 2634600}"
      ]
     },
     "execution_count": 72,
     "metadata": {},
     "output_type": "execute_result"
    }
   ],
   "source": [
    "donor_dict_list[4]"
   ]
  },
  {
   "cell_type": "code",
   "execution_count": 74,
   "metadata": {},
   "outputs": [
    {
     "data": {
      "text/plain": [
       "[{'year': 2013,\n",
       "  'donor': 'Bradley Impact Func Inc',\n",
       "  'grantee': 'Young Americas Foundation',\n",
       "  'amount': 11000},\n",
       " {'year': 2016,\n",
       "  'donor': 'Mercer Family Foundation',\n",
       "  'grantee': 'The Becket Fund',\n",
       "  'amount': 250000},\n",
       " {'year': 2012,\n",
       "  'donor': 'Charles Koch Foundation',\n",
       "  'grantee': 'The Phillips Foundation',\n",
       "  'amount': 25000},\n",
       " {'year': 2017,\n",
       "  'donor': 'Barbara And Barre Seid Foundation',\n",
       "  'grantee': 'Boy Scouts of America',\n",
       "  'amount': 2634600}]"
      ]
     },
     "execution_count": 74,
     "metadata": {},
     "output_type": "execute_result"
    }
   ],
   "source": [
    "donor_dict_list[1:]\n"
   ]
  },
  {
   "cell_type": "code",
   "execution_count": 82,
   "metadata": {},
   "outputs": [
    {
     "data": {
      "text/plain": [
       "dict_keys(['year', 'donor', 'grantee', 'amount', 'category'])"
      ]
     },
     "execution_count": 82,
     "metadata": {},
     "output_type": "execute_result"
    }
   ],
   "source": [
    "csv_columns = donor_dict_list[0].keys()\n",
    "csv_columns\n"
   ]
  },
  {
   "cell_type": "code",
   "execution_count": 92,
   "metadata": {},
   "outputs": [
    {
     "data": {
      "text/plain": [
       "'youth'"
      ]
     },
     "execution_count": 92,
     "metadata": {},
     "output_type": "execute_result"
    }
   ],
   "source": [
    "donor_dict_list[0].pop(\"category\")"
   ]
  },
  {
   "cell_type": "code",
   "execution_count": 93,
   "metadata": {},
   "outputs": [
    {
     "data": {
      "text/plain": [
       "[{'year': 2017,\n",
       "  'donor': 'David H Koch Charitable Foundation',\n",
       "  'grantee': 'City Center for Music and Drama',\n",
       "  'amount': 15000000},\n",
       " {'year': 2013,\n",
       "  'donor': 'Bradley Impact Func Inc',\n",
       "  'grantee': 'Young Americas Foundation',\n",
       "  'amount': 11000},\n",
       " {'year': 2016,\n",
       "  'donor': 'Mercer Family Foundation',\n",
       "  'grantee': 'The Becket Fund',\n",
       "  'amount': 250000},\n",
       " {'year': 2012,\n",
       "  'donor': 'Charles Koch Foundation',\n",
       "  'grantee': 'The Phillips Foundation',\n",
       "  'amount': 25000},\n",
       " {'year': 2017,\n",
       "  'donor': 'Barbara And Barre Seid Foundation',\n",
       "  'grantee': 'Boy Scouts of America',\n",
       "  'amount': 2634600}]"
      ]
     },
     "execution_count": 93,
     "metadata": {},
     "output_type": "execute_result"
    }
   ],
   "source": [
    "donor_dict_list"
   ]
  },
  {
   "cell_type": "code",
   "execution_count": 94,
   "metadata": {},
   "outputs": [
    {
     "data": {
      "text/plain": [
       "dict_keys(['year', 'donor', 'grantee', 'amount'])"
      ]
     },
     "execution_count": 94,
     "metadata": {},
     "output_type": "execute_result"
    }
   ],
   "source": [
    "csv_columns = donor_dict_list[0].keys()\n",
    "csv_columns"
   ]
  },
  {
   "cell_type": "code",
   "execution_count": null,
   "metadata": {},
   "outputs": [],
   "source": []
  }
 ],
 "metadata": {
  "kernelspec": {
   "display_name": "Python 3",
   "language": "python",
   "name": "python3"
  },
  "language_info": {
   "codemirror_mode": {
    "name": "ipython",
    "version": 3
   },
   "file_extension": ".py",
   "mimetype": "text/x-python",
   "name": "python",
   "nbconvert_exporter": "python",
   "pygments_lexer": "ipython3",
   "version": "3.8.5"
  },
  "toc-showcode": false
 },
 "nbformat": 4,
 "nbformat_minor": 4
}
