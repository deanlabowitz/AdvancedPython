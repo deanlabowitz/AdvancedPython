{
 "cells": [
  {
   "cell_type": "markdown",
   "metadata": {
    "id": "9PmgWaXKRbP8"
   },
   "source": [
    "## Find key data points from multiple documents\n",
    "\n",
    "Download <a href=\"https://drive.google.com/file/d/1V6hmJhCqMyR65e4tal1Q70Lc_jvtZm0F/view?usp=sharing\">these documents</a>.\n",
    "\n",
    "They all have an identical structure to them.\n",
    "\n",
    "Using regex, capture and export as a CSV the following data points in all the documents:\n",
    "\n",
    "- The case number.\n",
    "- Whether the decision was to accept or reject the appeal.\n",
    "- The request date.\n",
    "- The decision date.\n",
    "- Source file name\n",
    "\n",
    "\n"
   ]
  },
  {
   "cell_type": "code",
   "execution_count": 1,
   "metadata": {
    "id": "qoXViR6c1k-s"
   },
   "outputs": [
    {
     "name": "stdout",
     "output_type": "stream",
     "text": [
      "Requirement already satisfied: icecream in /Users/slabowitz/opt/anaconda3/lib/python3.8/site-packages (2.1.1)\n",
      "Requirement already satisfied: colorama>=0.3.9 in /Users/slabowitz/opt/anaconda3/lib/python3.8/site-packages (from icecream) (0.4.4)\n",
      "Requirement already satisfied: executing>=0.3.1 in /Users/slabowitz/opt/anaconda3/lib/python3.8/site-packages (from icecream) (0.8.1)\n",
      "Requirement already satisfied: pygments>=2.2.0 in /Users/slabowitz/opt/anaconda3/lib/python3.8/site-packages (from icecream) (2.8.1)\n",
      "Requirement already satisfied: asttokens>=2.0.1 in /Users/slabowitz/opt/anaconda3/lib/python3.8/site-packages (from icecream) (2.0.5)\n",
      "Requirement already satisfied: six in /Users/slabowitz/opt/anaconda3/lib/python3.8/site-packages (from asttokens>=2.0.1->icecream) (1.15.0)\n",
      "Note: you may need to restart the kernel to use updated packages.\n"
     ]
    }
   ],
   "source": [
    "pip install icecream"
   ]
  },
  {
   "cell_type": "code",
   "execution_count": 95,
   "metadata": {},
   "outputs": [],
   "source": [
    "## Lets import all the libaries we are likely to need\n",
    "import pandas as pd ## to easily export our data to dataframes/CSVs\n",
    "from icecream import ic ## easily debug\n",
    "import itertools ## to flatten lists\n",
    "import re\n",
    "import glob #organizing files\n",
    "from zipfile import ZipFile # to deal with zipped files"
   ]
  },
  {
   "cell_type": "code",
   "execution_count": 29,
   "metadata": {},
   "outputs": [],
   "source": [
    "## Unzip the files needed\n",
    "\n",
    "folder_name = \"regex-docs.zip\"\n",
    "\n",
    "with ZipFile(folder_name, \"r\") as zipObj:\n",
    "    zipObj.extractall()\n",
    "    file_names = zipObj.namelist()\n",
    "    \n",
    "# organize the files \n",
    "\n",
    "myfiles = sorted(glob.glob('docs/*.txt'))\n"
   ]
  },
  {
   "cell_type": "code",
   "execution_count": 73,
   "metadata": {},
   "outputs": [
    {
     "data": {
      "text/plain": [
       "[\"STATE OF NEW YORK REQUEST: February 5, 2015 \\nDEPARTMENT OF HEALTH AGENCY\\nCASE #: 6952578N\\n______________________________________________________\\n In the Matter of the Appeal of\\n:\\n:\\nHEARING from a determination by the New York City :\\n\\n2. On December 22, 2014, a nursing assessor completed a Uniform Assessment System evaluation of the Appellant’s personal care needs.\\n3. On December 22, 2014, a nursing assessor completed a client task sheet as to the Appellant’s personal care needs.\\n4. By notice dated January 23, 2015, the Managed Long Term Care Plan determined to reduce the Appellant’s Personal Care Services authorization from 16 hours daily, 7 days weekly to 8 hours daily, 7 days weekly.\\n5. On January 23, 2015, the Appellant requested an internal appeal.\\n6. On February 5, 2015, this fair hearing was requested.\\n7. By notice dated February 27, 2015, the Managed Long Term Care Plan determined to\\nuphold its determination to reduce the Appellant’s Personal Care Services authorization from 16 hours daily, 7 days weekly to 8 hours daily, 7 days weekly.\\nAPPLICABLE LAW\\nPart 438 of 42 Code of Federal Regulations (CFR) pertains to provision of Medicaid medical care, services and supplies through Managed Care Organizations (MCOs), Prepaid Inpatient Health Plans (PIHPs), Prepaid Ambulatory Health Plans (PAHPs) and Primary Care Case Managers (PCCMs), and the requirements for contracts for services so provided.\\nSection 438.210 of 42 CFR Subpart D provides, in pertinent part:\\n (a)\\nCoverage - Each contract with an MCO, PIHP, or PAHP must do the following:\\n(1) Identify, define, and specify the amount, duration, and scope of each service that the MCO, PIHP, or PAHP is required to offer.\\n(2) Require that the services identified in paragraph (a)(1) of this section be furnished in an amount, duration, and scope that is no less than the amount, duration, and scope for the same services furnished to beneficiaries under fee-for-service Medicaid, as set forth in Sec. 440.230.\\n(3) Provide that the MCO, PIHP, or PAHP--\\n(i) Must ensure that the services are sufficient in amount, duration, or scope to reasonably be expected to achieve the purpose for which the services are furnished.\\n\\nFH# 6952578N\\n3\\n(ii) May not arbitrarily deny or reduce the amount, duration, or scope of a required service solely because of diagnosis, type of illness, or condition of the beneficiary;\\n(iii) May place appropriate limits on a service\\n(A) On the basis of criteria applied under the State plan, such as medical necessity; or\\n(B) For the purpose of utilization control, provided the services furnished can reasonably be expected to achieve their purpose, as required in paragraph (a)(3)(i) of this section; and\\n(4) Specify what constitutes “medically necessary services”' in a manner that:\\n(i) Is no more restrictive than that used in the State Medicaid program as indicated in State statutes and regulations, the State Plan, and other State policy and procedures; and\\n(ii) Addresses the extent to which the MCO, PIHP, or PAHP is responsible for covering services related to the following:\\n(A) The prevention, diagnosis, and treatment of health impairments.\\n(B) The ability to achieve age-appropriate growth and development.\\n(C) The ability to attain, maintain, or regain functional capacity.\\n(b) Authorization of services. For the processing of requests for initial and continuing authorizations of services, each contract must require:\\n(1) That the MCO, PIHP, or PAHP and its subcontractors have in place, and follow, written policies and procedures.\\n(2) That the MCO, PIHP, or PAHP:\\n(i) Have in effect mechanisms to ensure consistent application of review criteria for authorization decisions; and\\n(ii) Consult with the requesting provider when appropriate.\\n\\n\\nFH# 6952578N\\nDECISION:\\nThe Managed Long Term Care Plan’s decision dated February 27, 2015, is rejected.\\n\\n\\nFH# 6952578N\\nDATED: Albany, New York 04/10/2015\\n\\n\\nNEW YORK STATE DEPARTMENT OF HEALTH\\nBy\\n Commissioner's Designee\\n docs/decision01.txt\",\n",
       " \"STATE OF NEW YORK REQUEST: March 14, 2019 \\nDEPARTMENT OF HEALTH AGENCY\\nCASE #: 7924923N\\n______________________________________________________\\n In the Matter of the Appeal of\\n:\\n:\\nHEARING from a determination by the New York City :\\n\\n2. On December 22, 2014, a nursing assessor completed a Uniform Assessment System evaluation of the Appellant’s personal care needs.\\n3. On December 22, 2014, a nursing assessor completed a client task sheet as to the Appellant’s personal care needs.\\n4. By notice dated January 23, 2015, the Managed Long Term Care Plan determined to reduce the Appellant’s Personal Care Services authorization from 16 hours daily, 7 days weekly to 8 hours daily, 7 days weekly.\\n5. On January 23, 2015, the Appellant requested an internal appeal.\\n6. On February 5, 2015, this fair hearing was requested.\\n7. By notice dated February 27, 2015, the Managed Long Term Care Plan determined to\\nuphold its determination to reduce the Appellant’s Personal Care Services authorization from 16 hours daily, 7 days weekly to 8 hours daily, 7 days weekly.\\nAPPLICABLE LAW\\nPart 438 of 42 Code of Federal Regulations (CFR) pertains to provision of Medicaid medical care, services and supplies through Managed Care Organizations (MCOs), Prepaid Inpatient Health Plans (PIHPs), Prepaid Ambulatory Health Plans (PAHPs) and Primary Care Case Managers (PCCMs), and the requirements for contracts for services so provided.\\nSection 438.210 of 42 CFR Subpart D provides, in pertinent part:\\n (a)\\nCoverage - Each contract with an MCO, PIHP, or PAHP must do the following:\\n(1) Identify, define, and specify the amount, duration, and scope of each service that the MCO, PIHP, or PAHP is required to offer.\\n(2) Require that the services identified in paragraph (a)(1) of this section be furnished in an amount, duration, and scope that is no less than the amount, duration, and scope for the same services furnished to beneficiaries under fee-for-service Medicaid, as set forth in Sec. 440.230.\\n(3) Provide that the MCO, PIHP, or PAHP--\\n(i) Must ensure that the services are sufficient in amount, duration, or scope to reasonably be expected to achieve the purpose for which the services are furnished.\\n\\nFH# 7924923N\\n3\\n(ii) May not arbitrarily deny or reduce the amount, duration, or scope of a required service solely because of diagnosis, type of illness, or condition of the beneficiary;\\n(iii) May place appropriate limits on a service\\n(A) On the basis of criteria applied under the State plan, such as medical necessity; or\\n(B) For the purpose of utilization control, provided the services furnished can reasonably be expected to achieve their purpose, as required in paragraph (a)(3)(i) of this section; and\\n(4) Specify what constitutes “medically necessary services”' in a manner that:\\n(i) Is no more restrictive than that used in the State Medicaid program as indicated in State statutes and regulations, the State Plan, and other State policy and procedures; and\\n(ii) Addresses the extent to which the MCO, PIHP, or PAHP is responsible for covering services related to the following:\\n(A) The prevention, diagnosis, and treatment of health impairments.\\n(B) The ability to achieve age-appropriate growth and development.\\n(C) The ability to attain, maintain, or regain functional capacity.\\n(b) Authorization of services. For the processing of requests for initial and continuing authorizations of services, each contract must require:\\n(1) That the MCO, PIHP, or PAHP and its subcontractors have in place, and follow, written policies and procedures.\\n(2) That the MCO, PIHP, or PAHP:\\n(i) Have in effect mechanisms to ensure consistent application of review criteria for authorization decisions; and\\n(ii) Consult with the requesting provider when appropriate.\\n\\n\\nFH# 7924923N\\nDECISION:\\nThe Managed Long Term Care Plan’s decision dated March 14, 2019, is accepted.\\n\\n\\nFH# 7924923N\\nDATED: Albany, New York 11/15/2019\\n\\n\\nNEW YORK STATE DEPARTMENT OF HEALTH\\nBy\\n Commissioner's Designee\\n docs/decision02.txt\",\n",
       " \"STATE OF NEW YORK REQUEST: October 28, 2019 \\nDEPARTMENT OF HEALTH AGENCY\\nCASE #: 4964154N\\n______________________________________________________\\n In the Matter of the Appeal of\\n:\\n:\\nHEARING from a determination by the New York City :\\n\\n2. On December 22, 2014, a nursing assessor completed a Uniform Assessment System evaluation of the Appellant’s personal care needs.\\n3. On December 22, 2014, a nursing assessor completed a client task sheet as to the Appellant’s personal care needs.\\n4. By notice dated January 23, 2015, the Managed Long Term Care Plan determined to reduce the Appellant’s Personal Care Services authorization from 16 hours daily, 7 days weekly to 8 hours daily, 7 days weekly.\\n5. On January 23, 2015, the Appellant requested an internal appeal.\\n6. On February 5, 2015, this fair hearing was requested.\\n7. By notice dated February 27, 2015, the Managed Long Term Care Plan determined to\\nuphold its determination to reduce the Appellant’s Personal Care Services authorization from 16 hours daily, 7 days weekly to 8 hours daily, 7 days weekly.\\nAPPLICABLE LAW\\nPart 438 of 42 Code of Federal Regulations (CFR) pertains to provision of Medicaid medical care, services and supplies through Managed Care Organizations (MCOs), Prepaid Inpatient Health Plans (PIHPs), Prepaid Ambulatory Health Plans (PAHPs) and Primary Care Case Managers (PCCMs), and the requirements for contracts for services so provided.\\nSection 438.210 of 42 CFR Subpart D provides, in pertinent part:\\n (a)\\nCoverage - Each contract with an MCO, PIHP, or PAHP must do the following:\\n(1) Identify, define, and specify the amount, duration, and scope of each service that the MCO, PIHP, or PAHP is required to offer.\\n(2) Require that the services identified in paragraph (a)(1) of this section be furnished in an amount, duration, and scope that is no less than the amount, duration, and scope for the same services furnished to beneficiaries under fee-for-service Medicaid, as set forth in Sec. 440.230.\\n(3) Provide that the MCO, PIHP, or PAHP--\\n(i) Must ensure that the services are sufficient in amount, duration, or scope to reasonably be expected to achieve the purpose for which the services are furnished.\\n\\nFH# 4964154N\\n3\\n(ii) May not arbitrarily deny or reduce the amount, duration, or scope of a required service solely because of diagnosis, type of illness, or condition of the beneficiary;\\n(iii) May place appropriate limits on a service\\n(A) On the basis of criteria applied under the State plan, such as medical necessity; or\\n(B) For the purpose of utilization control, provided the services furnished can reasonably be expected to achieve their purpose, as required in paragraph (a)(3)(i) of this section; and\\n(4) Specify what constitutes “medically necessary services”' in a manner that:\\n(i) Is no more restrictive than that used in the State Medicaid program as indicated in State statutes and regulations, the State Plan, and other State policy and procedures; and\\n(ii) Addresses the extent to which the MCO, PIHP, or PAHP is responsible for covering services related to the following:\\n(A) The prevention, diagnosis, and treatment of health impairments.\\n(B) The ability to achieve age-appropriate growth and development.\\n(C) The ability to attain, maintain, or regain functional capacity.\\n(b) Authorization of services. For the processing of requests for initial and continuing authorizations of services, each contract must require:\\n(1) That the MCO, PIHP, or PAHP and its subcontractors have in place, and follow, written policies and procedures.\\n(2) That the MCO, PIHP, or PAHP:\\n(i) Have in effect mechanisms to ensure consistent application of review criteria for authorization decisions; and\\n(ii) Consult with the requesting provider when appropriate.\\n\\n\\nFH# 4964154N\\nDECISION:\\nThe Managed Long Term Care Plan’s decision dated March 14, 2019, is rejected.\\n\\n\\nFH# 4964154N\\nDATED: Albany, New York 3/15/2020\\n\\n\\nNEW YORK STATE DEPARTMENT OF HEALTH\\nBy\\n Commissioner's Designee\\n docs/decision03.txt\"]"
      ]
     },
     "execution_count": 73,
     "metadata": {},
     "output_type": "execute_result"
    }
   ],
   "source": [
    "## open the files and compile all text into a list\n",
    "## add the file name to the text so it can be later identified with its file\n",
    "\n",
    "texts = []\n",
    "\n",
    "for file in myfiles:\n",
    "    with open(file,'r') as text_obj:\n",
    "        text = text_obj.read() + ' ' + file\n",
    "        texts.append(text)\n",
    "texts"
   ]
  },
  {
   "cell_type": "code",
   "execution_count": 109,
   "metadata": {},
   "outputs": [
    {
     "data": {
      "text/html": [
       "<div>\n",
       "<style scoped>\n",
       "    .dataframe tbody tr th:only-of-type {\n",
       "        vertical-align: middle;\n",
       "    }\n",
       "\n",
       "    .dataframe tbody tr th {\n",
       "        vertical-align: top;\n",
       "    }\n",
       "\n",
       "    .dataframe thead th {\n",
       "        text-align: right;\n",
       "    }\n",
       "</style>\n",
       "<table border=\"1\" class=\"dataframe\">\n",
       "  <thead>\n",
       "    <tr style=\"text-align: right;\">\n",
       "      <th></th>\n",
       "      <th>Case-Number</th>\n",
       "      <th>Decision</th>\n",
       "      <th>Request-Date</th>\n",
       "      <th>Decision-Date</th>\n",
       "      <th>File-Name</th>\n",
       "    </tr>\n",
       "  </thead>\n",
       "  <tbody>\n",
       "    <tr>\n",
       "      <th>0</th>\n",
       "      <td>6952578N</td>\n",
       "      <td>rejected</td>\n",
       "      <td>February 5, 2015</td>\n",
       "      <td>February 27, 2015</td>\n",
       "      <td>docs/decision01.txt</td>\n",
       "    </tr>\n",
       "    <tr>\n",
       "      <th>1</th>\n",
       "      <td>7924923N</td>\n",
       "      <td>accepted</td>\n",
       "      <td>March 14, 2019</td>\n",
       "      <td>March 14, 2019</td>\n",
       "      <td>docs/decision02.txt</td>\n",
       "    </tr>\n",
       "    <tr>\n",
       "      <th>2</th>\n",
       "      <td>4964154N</td>\n",
       "      <td>rejected</td>\n",
       "      <td>October 28, 2019</td>\n",
       "      <td>March 14, 2019</td>\n",
       "      <td>docs/decision03.txt</td>\n",
       "    </tr>\n",
       "  </tbody>\n",
       "</table>\n",
       "</div>"
      ],
      "text/plain": [
       "  Case-Number  Decision      Request-Date      Decision-Date  \\\n",
       "0    6952578N  rejected  February 5, 2015  February 27, 2015   \n",
       "1    7924923N  accepted    March 14, 2019     March 14, 2019   \n",
       "2    4964154N  rejected  October 28, 2019     March 14, 2019   \n",
       "\n",
       "             File-Name  \n",
       "0  docs/decision01.txt  \n",
       "1  docs/decision02.txt  \n",
       "2  docs/decision03.txt  "
      ]
     },
     "execution_count": 109,
     "metadata": {},
     "output_type": "execute_result"
    }
   ],
   "source": [
    "## Initialize future column headers as empty lists\n",
    "\n",
    "case_numbers = []\n",
    "decisions = []\n",
    "req_dates = []\n",
    "dec_dates = []\n",
    "\n",
    "## Iterate through the texts with the regex to gather the info\n",
    "## Take the [0] item from each element captured otherwise the info comes in as a list\n",
    "\n",
    "for text in texts:\n",
    "    case_pat = re.compile(r'^CASE\\s\\#\\:\\s(\\d{7}[A-Z])', re.M | re.I)\n",
    "    case_number = case_pat.findall(text)[0]\n",
    "    case_numbers.append(case_number)\n",
    "\n",
    "    dec_pat = re.compile(r\"^The Managed Long Term Care Plan’s decision dated \\w+\\s\\d{1,2}\\,\\s\\d{4}\\,\\sis\\s(\\w+)\", re.M | re.I)\n",
    "    decision = dec_pat.findall(text)[0]\n",
    "    decisions.append(decision)\n",
    "    \n",
    "    req_pat = re.compile(r\"REQUEST:\\s(\\w+\\s\\d{1,2}\\,\\s\\d{4})\", re.M | re.I)\n",
    "    req_date = req_pat.findall(text)[0]\n",
    "    req_dates.append(req_date)\n",
    "    \n",
    "    dec_date_pat = re.compile(r\"^The Managed Long Term Care Plan’s decision dated (\\w+\\s\\d{1,2}\\,\\s\\d{4})\", re.M|re.I)\n",
    "    dec_date = dec_date_pat.findall(text)[0]\n",
    "    dec_dates.append(dec_date)\n",
    "    \n",
    "## Zip together the lists to create a dataframe of the scraped info with the file names\n",
    "\n",
    "df = pd.DataFrame(zip(case_numbers, decisions, req_dates, dec_dates, myfiles),\n",
    "            columns = [\"Case-Number\",\"Decision\",\"Request-Date\",\"Decision-Date\",\"File-Name\"])\n",
    "df"
   ]
  },
  {
   "cell_type": "code",
   "execution_count": 110,
   "metadata": {},
   "outputs": [],
   "source": [
    "## Send the df to a csv file\n",
    "df.to_csv('appeal_decsions.csv', index = False, encoding = \"UTF-8\")"
   ]
  },
  {
   "cell_type": "code",
   "execution_count": null,
   "metadata": {},
   "outputs": [],
   "source": []
  }
 ],
 "metadata": {
  "colab": {
   "collapsed_sections": [],
   "name": "homework-for-week-14-regex_BLANK.ipynb",
   "provenance": []
  },
  "kernelspec": {
   "display_name": "Python 3",
   "language": "python",
   "name": "python3"
  },
  "language_info": {
   "codemirror_mode": {
    "name": "ipython",
    "version": 3
   },
   "file_extension": ".py",
   "mimetype": "text/x-python",
   "name": "python",
   "nbconvert_exporter": "python",
   "pygments_lexer": "ipython3",
   "version": "3.8.8"
  }
 },
 "nbformat": 4,
 "nbformat_minor": 4
}
