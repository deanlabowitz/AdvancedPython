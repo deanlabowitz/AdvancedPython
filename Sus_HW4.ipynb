{
 "cells": [
  {
   "cell_type": "markdown",
   "metadata": {
    "id": "Iz2mPruuLNDG"
   },
   "source": [
    "# Homework for week 4"
   ]
  },
  {
   "cell_type": "markdown",
   "metadata": {
    "id": "J3SAoD1ZLNDa"
   },
   "source": [
    "## Functions"
   ]
  },
  {
   "cell_type": "markdown",
   "metadata": {
    "id": "3UGFoGn8LNDa"
   },
   "source": [
    "#### 1. Convert String Number to Integer\n",
    "Create a function that can take something like ```\"$5,356\"``` or ```\"$250,000\"``` or even ```\"$10.75\"``` and covert into integers like return ```5356```, ```250000``` and ```11``` respectively."
   ]
  },
  {
   "cell_type": "code",
   "execution_count": 39,
   "metadata": {
    "id": "uMP1kvHDLNDb"
   },
   "outputs": [],
   "source": [
    "## build function here\n",
    "def st_int(a_number):\n",
    "    '''\n",
    "    convert a string of numbers into an integer\n",
    "    '''\n",
    "    joined_num_parts = ''.join([x.strip('$') for x in a_number.split(',')])\n",
    "    return int(round(float(joined_num_parts)))\n",
    "\n",
    "    # For my own notes: This was how I solved it before using the list comprehension. \n",
    "    #a_number = a_number.strip('$,.')\n",
    "    #list_of_num_parts = a_number.split(',')\n",
    "    #joined_num_parts = ''.join(list_of_num_parts)\n",
    "    #return int(round(float(joined_num_parts)))"
   ]
  },
  {
   "cell_type": "code",
   "execution_count": 40,
   "metadata": {
    "id": "sry36rAfLNDe"
   },
   "outputs": [
    {
     "data": {
      "text/plain": [
       "5356"
      ]
     },
     "execution_count": 40,
     "metadata": {},
     "output_type": "execute_result"
    }
   ],
   "source": [
    "## call the function on \"$5,356\"\n",
    "## Did you get 5356?\n",
    "number = \"$5,356\"\n",
    "d = st_int(number)\n",
    "d"
   ]
  },
  {
   "cell_type": "code",
   "execution_count": 41,
   "metadata": {
    "id": "JUkBfxMoLNDg"
   },
   "outputs": [
    {
     "data": {
      "text/plain": [
       "11"
      ]
     },
     "execution_count": 41,
     "metadata": {},
     "output_type": "execute_result"
    }
   ],
   "source": [
    "## call the function on \"$10.75\"\n",
    "## Did you get 11?\n",
    "number = \"$10.75\"\n",
    "e = st_int(number)\n",
    "e"
   ]
  },
  {
   "cell_type": "code",
   "execution_count": 44,
   "metadata": {
    "id": "sRAqjMx6LNDj"
   },
   "outputs": [
    {
     "data": {
      "text/plain": [
       "[12, 4576, 23629]"
      ]
     },
     "execution_count": 44,
     "metadata": {},
     "output_type": "execute_result"
    }
   ],
   "source": [
    "## Use map() to run your function on the following list\n",
    "## save result in a list called updated_list\n",
    "my_amounts = [\"$12.24\", \"$4,576.33\", \"$23,629.01\"]\n",
    "updated_list = list(map(st_int, my_amounts))\n",
    "updated_list"
   ]
  },
  {
   "cell_type": "markdown",
   "metadata": {
    "id": "mmIBlUMgLNDl"
   },
   "source": [
    "### 3. What if we encounter a list that has a mix of numbers as strings and integers and floats?"
   ]
  },
  {
   "cell_type": "code",
   "execution_count": 45,
   "metadata": {
    "id": "fDHpj2KaLNDm"
   },
   "outputs": [
    {
     "data": {
      "text/plain": [
       "[int, str, str, str, float]"
      ]
     },
     "execution_count": 45,
     "metadata": {},
     "output_type": "execute_result"
    }
   ],
   "source": [
    "## HINT: Look up: isinstance()\n",
    "\n",
    "## Run this cell\n",
    "more_amounts = [960, \"$12.24\", \"$4,576.33\", \"$23,629.01\", 23.656]\n",
    "\n",
    "[type(item) for item in more_amounts]"
   ]
  },
  {
   "cell_type": "code",
   "execution_count": 46,
   "metadata": {
    "id": "BmPYPzVWLNDo"
   },
   "outputs": [],
   "source": [
    "## tweaked the function here to handle all situations\n",
    "\n",
    "def st_int(a_number):\n",
    "    '''\n",
    "    convert a string of numbers or a float into an integer\n",
    "    returns if already an integer\n",
    "    '''\n",
    "    if isinstance(a_number, str):\n",
    "        joined_num_parts = ''.join([x.strip('$') for x in a_number.split(',')])\n",
    "        return int(round(float(joined_num_parts)))\n",
    "    elif isinstance(a_number, float):\n",
    "        return int(round(a_number))\n",
    "    elif isinstance(a_number, int):\n",
    "        return a_number\n",
    "    else:\n",
    "        pass"
   ]
  },
  {
   "cell_type": "code",
   "execution_count": 97,
   "metadata": {
    "id": "fWfOcyxeLNDq"
   },
   "outputs": [],
   "source": [
    "## run it on more_amounts using map()"
   ]
  },
  {
   "cell_type": "code",
   "execution_count": 47,
   "metadata": {},
   "outputs": [
    {
     "data": {
      "text/plain": [
       "[960, 12, 4576, 23629, 24]"
      ]
     },
     "execution_count": 47,
     "metadata": {},
     "output_type": "execute_result"
    }
   ],
   "source": [
    "another_list = list(map(st_int, more_amounts))\n",
    "another_list"
   ]
  },
  {
   "cell_type": "code",
   "execution_count": 48,
   "metadata": {},
   "outputs": [
    {
     "data": {
      "text/plain": [
       "[int, int, int, int, int]"
      ]
     },
     "execution_count": 48,
     "metadata": {},
     "output_type": "execute_result"
    }
   ],
   "source": [
    "[type(item) for item in another_list]"
   ]
  },
  {
   "cell_type": "code",
   "execution_count": null,
   "metadata": {},
   "outputs": [],
   "source": []
  }
 ],
 "metadata": {
  "colab": {
   "collapsed_sections": [],
   "name": "Homework-for-week-4_BLANKS.ipynb",
   "provenance": []
  },
  "kernelspec": {
   "display_name": "Python 3",
   "language": "python",
   "name": "python3"
  },
  "language_info": {
   "codemirror_mode": {
    "name": "ipython",
    "version": 3
   },
   "file_extension": ".py",
   "mimetype": "text/x-python",
   "name": "python",
   "nbconvert_exporter": "python",
   "pygments_lexer": "ipython3",
   "version": "3.8.8"
  }
 },
 "nbformat": 4,
 "nbformat_minor": 4
}
